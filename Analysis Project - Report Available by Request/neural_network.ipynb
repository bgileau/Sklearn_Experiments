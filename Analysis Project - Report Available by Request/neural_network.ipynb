{
 "cells": [
  {
   "cell_type": "code",
   "execution_count": 1,
   "metadata": {},
   "outputs": [],
   "source": [
    "import pandas as pd\n",
    "import numpy as np\n",
    "import os\n",
    "from sklearn.preprocessing import StandardScaler, MinMaxScaler\n",
    "from sklearn.linear_model import LogisticRegression, LogisticRegressionCV\n",
    "from sklearn.neighbors import KNeighborsClassifier\n",
    "from sklearn.model_selection import cross_val_score, StratifiedKFold\n",
    "import sklearn.metrics\n",
    "import time\n",
    "\n",
    "import faiss  # KNN testing - python 3.5 only?\n",
    "from scipy.stats import mode\n",
    "\n",
    "import matplotlib.pyplot as plt \n",
    "\n",
    "from sklearn.decomposition import PCA\n",
    "from sklearn.neural_network import MLPClassifier"
   ]
  },
  {
   "cell_type": "code",
   "execution_count": 2,
   "metadata": {},
   "outputs": [],
   "source": [
    "\n",
    "\n",
    "os_dir = os.path.abspath('')\n",
    "os_dir_data = os.path.join(os_dir, r\"data/original/\")\n",
    "\n",
    "test_csv_path = os_dir_data + \"1000_test.csv\"\n",
    "train_csv_path = os_dir_data + \"1000_train.csv\"\n",
    "\n",
    "header_list = [\"# label\",\"f0\",\"f1\",\"f2\",\"f3\",\"f4\",\"f5\",\"f6\",\"f7\",\"f8\",\"f9\",\"f10\",\"f11\",\"f12\",\"f13\",\"f14\",\"f15\",\"f16\",\"f17\",\"f18\",\"f19\",\"f20\",\"f21\",\"f22\",\"f23\",\"f24\",\"f25\",\"f26\"]\n",
    "\n",
    "test_df = pd.read_csv(test_csv_path, names=header_list, skiprows=[0])  # skip row 0 because we are creating our own header\n",
    "train_df = pd.read_csv(train_csv_path, names=header_list, skiprows=[0])  # skip row 0 because we are creating our own header\n"
   ]
  },
  {
   "cell_type": "code",
   "execution_count": 3,
   "metadata": {},
   "outputs": [
    {
     "name": "stdout",
     "output_type": "stream",
     "text": [
      "(3500000, 28)\n",
      "(7000000, 28)\n",
      "['f0', 'f1', 'f2', 'f3', 'f4', 'f5', 'f6', 'f7', 'f8', 'f9', 'f10', 'f11', 'f12', 'f13', 'f14', 'f15', 'f16', 'f17', 'f18', 'f19', 'f20', 'f21', 'f22', 'f23', 'f24', 'f25', 'f26']\n",
      "<class 'list'>\n"
     ]
    }
   ],
   "source": [
    "print(test_df.shape)\n",
    "print(train_df.shape)\n",
    "\n",
    "####### scale data\n",
    "\n",
    "df_columns = list(test_df.columns)\n",
    "\n",
    "df_columns_features = df_columns\n",
    "df_columns_label = df_columns[0]\n",
    "df_columns_features.pop(0)\n",
    "\n",
    "\n",
    "print(df_columns_features)\n",
    "print(type(df_columns_features))\n",
    "\n",
    "#scaler = StandardScaler()\n",
    "#scaler = MinMaxScaler()\n",
    "# test_df[df_columns_features] = scaler.fit_transform(test_df[df_columns_features])\n",
    "# train_df[df_columns_features] = scaler.fit_transform(train_df[df_columns_features])\n",
    "\n",
    "####### end scale data"
   ]
  },
  {
   "cell_type": "code",
   "execution_count": 4,
   "metadata": {},
   "outputs": [
    {
     "name": "stdout",
     "output_type": "stream",
     "text": [
      "(6999999, 27)\n"
     ]
    }
   ],
   "source": [
    "n_samples = 3500000  # 200000\n",
    "\n",
    "####### Separate the label from the normal dataframe\n",
    "\n",
    "train_df = train_df[train_df[\"f24\"] > -20]\n",
    "\n",
    "test_subsample_df = test_df.sample(n=n_samples, random_state=1)\n",
    "train_subsample_df = train_df.sample(n=n_samples*2 - 1, random_state=1)\n",
    "\n",
    "test_subsample_label_arr = np.array(test_subsample_df[df_columns_label])\n",
    "test_subsample_df = test_subsample_df.drop(columns=df_columns_label)\n",
    "\n",
    "train_subsample_label_arr = np.array(train_subsample_df[df_columns_label])\n",
    "train_subsample_df = train_subsample_df.drop(columns=df_columns_label)\n",
    "#######\n",
    "\n",
    "print(train_subsample_df.shape)\n",
    "\n",
    "\n",
    "###### Perform PCA on the subsample (if desired)\n",
    "do_perform_pca = False\n",
    "if do_perform_pca:\n",
    "    pca = PCA(.95, random_state=1)\n",
    "\n",
    "    pca.fit(train_subsample_df)  # fit pca on training set\n",
    "\n",
    "    print(f\"Total shape: {len(train_subsample_df.columns)}, PCA Component count: {pca.components_.shape}\")\n",
    "\n",
    "    # transform the test and train\n",
    "    train_subsample_df = pca.transform(train_subsample_df)\n",
    "    test_subsample_df = pca.transform(test_subsample_df)"
   ]
  },
  {
   "cell_type": "code",
   "execution_count": 5,
   "metadata": {},
   "outputs": [],
   "source": [
    "#scaler = StandardScaler()\n",
    "scaler = MinMaxScaler()\n",
    "train_subsample_df[df_columns_features] = scaler.fit_transform(train_subsample_df[df_columns_features])\n"
   ]
  },
  {
   "cell_type": "code",
   "execution_count": 6,
   "metadata": {},
   "outputs": [
    {
     "name": "stdout",
     "output_type": "stream",
     "text": [
      "{'relu': {(8,): None}}\n",
      "On: relu | (8,)\n",
      "Time: [635.5047430992126]\n",
      "AUC: 0.959020226127675\n",
      "{'relu': {(8,): 0.959020226127675}}\n",
      "[0.959020226127675]\n",
      "[635.5047430992126]\n"
     ]
    },
    {
     "data": {
      "image/png": "[encoded data removed]",
      "text/plain": [
       "<Figure size 432x288 with 1 Axes>"
      ]
     },
     "metadata": {
      "needs_background": "light"
     },
     "output_type": "display_data"
    },
    {
     "data": {
      "image/png": "[encoded data removed]",
      "text/plain": [
       "<Figure size 432x288 with 1 Axes>"
      ]
     },
     "metadata": {
      "needs_background": "light"
     },
     "output_type": "display_data"
    }
   ],
   "source": [
    "# Each element in the tuple represents the number of nodes at the ith position where i is the index of the tuple. Thus the length of tuple denotes the total number of hidden layers in the network.\n",
    "# 200k samples + hidden_layer_sizes=(100,) + adam = 97.07 AUC (10,10,10) hidden layer gives same AUC too\n",
    "# 3.5m samples + hidden_layer_sizes=(100,) + adam = 97.36 AUC (24m to run)\n",
    "\n",
    "# TODO:\n",
    "# try testing various parameters (activation, hidden layer). Use for loops to iterate through a ton and report the best results.\n",
    "# try verbose output to see if the max_iter is reached or if tol is achieved?\n",
    "activation_states = [\"logistic\", \"tanh\", \"relu\"]  # identity has very poor performance\n",
    "activation_states = [\"relu\"]\n",
    "\n",
    "#hidden_layer_states = [(20,10,5),(10,5), (100,),(5,2),(60,30,15),(40,20,10),(4,2),(20,10)]  # v1\n",
    "#hidden_layer_states = [(20,10,5),(100,),(60,30,15),(40,20,10), (10,), (5,), (20,), (40,), (100,10)]\n",
    "hidden_layer_states = [(20,10,5),(100,),(60,30,15),(40,20,10), (40,), (100,10)]\n",
    "hidden_layer_states = [(8,)]\n",
    "\n",
    "\n",
    "#n_samples_arr = [100000,500000,1000000,1500000,2000000,2500000, 3000000,3500000]\n",
    "n_samples_arr = [3500000]\n",
    "n_samples_arr = np.array(n_samples_arr)\n",
    "\n",
    "# 3 layers all out perform 2 layers? 1 layer (100,) did well.\n",
    "\n",
    "report_LR_roc_auc_dict = dict.fromkeys(activation_states)\n",
    "for keys, vals in report_LR_roc_auc_dict.items():\n",
    "    report_LR_roc_auc_dict[keys] = dict.fromkeys(hidden_layer_states)\n",
    "\n",
    "print(report_LR_roc_auc_dict)\n",
    "# batch_size_arr = [25, 50, 75, 100, 125, 150, 175, 200]\n",
    "auc_arr = []\n",
    "NN_time_arr = []\n",
    "for activations in activation_states:\n",
    "    for hiddens_layers in hidden_layer_states:\n",
    "\n",
    "        # ####### Separate the label from the normal dataframe\n",
    "\n",
    "        # test_subsample_df = test_df.sample(n=n_samples, random_state=1)\n",
    "        # train_subsample_df = train_df.sample(n=n_samples*2, random_state=1)\n",
    "\n",
    "        # test_subsample_label_arr = np.array(test_subsample_df[df_columns_label])\n",
    "        # test_subsample_df = test_subsample_df.drop(columns=df_columns_label)\n",
    "\n",
    "        # train_subsample_label_arr = np.array(train_subsample_df[df_columns_label])\n",
    "        # train_subsample_df = train_subsample_df.drop(columns=df_columns_label)\n",
    "        # #######\n",
    "\n",
    "        print(f\"On: {activations} | {hiddens_layers}\")\n",
    "\n",
    "        time_start = time.time()\n",
    "        \n",
    "        # batch_size = 1 means no batch size\n",
    "        clf_NN = MLPClassifier(alpha=1e-5, hidden_layer_sizes=hiddens_layers, activation=activations, batch_size=200, random_state=1, solver=\"adam\")   # \"adam SGD solver better than lbfgs\". Adam MUCH faster than SGD. (200k samples is ~25 sec for adam, 60 sec for SGD with same accuracy)\n",
    "        clf_NN.fit(train_subsample_df, train_subsample_label_arr)\n",
    "        pred_labels = np.array(clf_NN.predict(test_subsample_df))\n",
    "\n",
    "        report_LR = sklearn.metrics.classification_report(y_true = test_subsample_label_arr, y_pred = pred_labels, digits=4)\n",
    "        report_LR_roc_auc = sklearn.metrics.roc_auc_score(y_true = test_subsample_label_arr, y_score=clf_NN.predict_proba(test_subsample_df)[:,1])\n",
    "        report_LR_roc_auc_dict[activations][hiddens_layers] = report_LR_roc_auc\n",
    "\n",
    "        auc_arr.append(report_LR_roc_auc)\n",
    "        NN_time_arr.append(time.time() - time_start)\n",
    "        print(f\"Time: {NN_time_arr}\")\n",
    "        print(f\"AUC: {report_LR_roc_auc}\")\n",
    "        # print(report_LR)\n",
    "print(report_LR_roc_auc_dict)\n",
    "\n",
    "print(auc_arr)\n",
    "print(NN_time_arr)\n",
    "\n",
    "# fig, ax = plt.subplots()\n",
    "\n",
    "# ax.plot(batch_size_arr, auc_arr)\n",
    "# plt.xlabel('Batch Size')\n",
    "# plt.ylabel('AUC Values')\n",
    "# ax.set_xticks(batch_size_arr)\n",
    "# plt.show()\n",
    "\n",
    "fig, ax = plt.subplots()\n",
    "ax.plot(n_samples_arr*2, NN_time_arr)\n",
    "plt.xlabel('Training Sample Count')\n",
    "plt.ylabel('Time to Run')\n",
    "ax.set_xticks(n_samples_arr*2)\n",
    "plt.show()\n",
    "\n",
    "fig, ax = plt.subplots()\n",
    "ax.plot(n_samples_arr*2, auc_arr)\n",
    "plt.xlabel('Training Sample Count')\n",
    "plt.ylabel('AUC Values')\n",
    "ax.set_xticks(n_samples_arr*2)\n",
    "plt.show()"
   ]
  },
  {
   "cell_type": "code",
   "execution_count": 6,
   "metadata": {},
   "outputs": [
    {
     "name": "stdout",
     "output_type": "stream",
     "text": [
      "{(80, 60, 40, 20): None}\n",
      "On: (80, 60, 40, 20)\n",
      "Time: [3050.5275061130524]\n",
      "AUC: 0.9762754601839736\n",
      "{(80, 60, 40, 20): 0.9762754601839736}\n",
      "[0.9762754601839736]\n",
      "[3050.5275061130524]\n"
     ]
    }
   ],
   "source": [
    "# Each element in the tuple represents the number of nodes at the ith position where i is the index of the tuple. Thus the length of tuple denotes the total number of hidden layers in the network.\n",
    "# 200k samples + hidden_layer_sizes=(100,) + adam = 97.07 AUC (10,10,10) hidden layer gives same AUC too\n",
    "# 3.5m samples + hidden_layer_sizes=(100,) + adam = 97.36 AUC (24m to run)\n",
    "\n",
    "# TODO:\n",
    "# try testing various parameters (activation, hidden layer). Use for loops to iterate through a ton and report the best results.\n",
    "# try verbose output to see if the max_iter is reached or if tol is achieved?\n",
    "activation_states = [\"logistic\", \"tanh\", \"relu\"]  # identity has very poor performance\n",
    "activation_states = [\"relu\"]\n",
    "\n",
    "#hidden_layer_states = [(20,10,5),(10,5), (100,),(5,2),(60,30,15),(40,20,10),(4,2),(20,10)]  # v1\n",
    "#hidden_layer_states = [(20,10,5),(100,),(60,30,15),(40,20,10), (10,), (5,), (20,), (40,), (100,10)]\n",
    "#hidden_layer_states = [(20,10,5),(100,),(60,30,15),(40,20,10), (40,), (100,10), (14,), (14,8,5),(14,8,5,3), (80,60,40,20), (100, 50, 25), (100,80,60,40,20), (80,40,20,10), (40,30,20,10),(14,8),(14,10,6), (20,15,10,5),(10,5), (8,4), (30,15), (20,10), (20,), (8,),(20,15),(25,15),(80,40),(60,40), (60,30),(45,30)]\n",
    "#hidden_layer_states = [(40,20,10)]  # best?\n",
    "\n",
    "#hidden_layer_states = [(140,120,100,80,60), (160,120,80,40),(160,80,40,20),(160,80,40,20,10), (180,160,140,120,100),(180,160,140,120,100,50,25),(200,100,50,25),(200,150,100,50),(300,200,100,50,20), (500,400,300,200,100,50,20),(200,100,50),(150,100,50)]\n",
    "hidden_layer_states = [(40,20,10)]\n",
    "\n",
    "n_samples_arr = [100000,500000,1000000,1500000,2000000,2500000, 3000000,3500000]\n",
    "# n_samples_arr = [10000,20000,30000]\n",
    "n_samples_arr = np.array(n_samples_arr)\n",
    "\n",
    "# 3 layers all out perform 2 layers? 1 layer (100,) did well.\n",
    "\n",
    "report_LR_roc_auc_dict = dict.fromkeys(hidden_layer_states)\n",
    "print(report_LR_roc_auc_dict)\n",
    "# batch_size_arr = [25, 50, 75, 100, 125, 150, 175, 200]\n",
    "auc_arr = []\n",
    "NN_time_arr = []\n",
    "\n",
    "for hidden_layers in hidden_layer_states:\n",
    "\n",
    "    ####### Separate the label from the normal dataframe\n",
    "\n",
    "    test_subsample_df = test_df.sample(n=n_samples, random_state=1)\n",
    "    train_subsample_df = train_df.sample(n=n_samples*2, random_state=1)\n",
    "\n",
    "    test_subsample_label_arr = np.array(test_subsample_df[df_columns_label])\n",
    "    test_subsample_df = test_subsample_df.drop(columns=df_columns_label)\n",
    "\n",
    "    train_subsample_label_arr = np.array(train_subsample_df[df_columns_label])\n",
    "    train_subsample_df = train_subsample_df.drop(columns=df_columns_label)\n",
    "    #######\n",
    "\n",
    "    print(f\"On: {hidden_layers}\")\n",
    "\n",
    "    time_start = time.time()\n",
    "    \n",
    "    # batch_size = 1 means no batch size\n",
    "    clf_NN = MLPClassifier(alpha=1e-5, hidden_layer_sizes=hidden_layers, activation=\"relu\", batch_size=200, random_state=1, solver=\"adam\")   # \"adam SGD solver better than lbfgs\". Adam MUCH faster than SGD. (200k samples is ~25 sec for adam, 60 sec for SGD with same accuracy)\n",
    "    clf_NN.fit(train_subsample_df, train_subsample_label_arr)\n",
    "    pred_labels = np.array(clf_NN.predict(test_subsample_df))\n",
    "\n",
    "    report_LR = sklearn.metrics.classification_report(y_true = test_subsample_label_arr, y_pred = pred_labels, digits=4)\n",
    "    report_LR_roc_auc = sklearn.metrics.roc_auc_score(y_true = test_subsample_label_arr, y_score=clf_NN.predict_proba(test_subsample_df)[:,1])\n",
    "    report_LR_roc_auc_dict[hidden_layers] = report_LR_roc_auc\n",
    "\n",
    "    auc_arr.append(report_LR_roc_auc)\n",
    "    NN_time_arr.append(time.time() - time_start)\n",
    "    print(f\"Time: {NN_time_arr}\")\n",
    "    print(f\"AUC: {report_LR_roc_auc}\")\n",
    "    # print(report_LR)\n",
    "print(report_LR_roc_auc_dict)\n",
    "\n",
    "print(auc_arr)\n",
    "print(NN_time_arr)\n",
    "\n",
    "# fig, ax = plt.subplots()\n",
    "\n",
    "# ax.plot(batch_size_arr, auc_arr)\n",
    "# plt.xlabel('Batch Size')\n",
    "# plt.ylabel('AUC Values')\n",
    "# ax.set_xticks(batch_size_arr)\n",
    "# plt.show()\n",
    "\n",
    "# fig, ax = plt.subplots()\n",
    "# ax.plot(n_samples_arr*2, NN_time_arr)\n",
    "# plt.xlabel('Training Sample Count')\n",
    "# plt.ylabel('Time to Run')\n",
    "# ax.set_xticks(n_samples_arr*2)\n",
    "# plt.show()\n",
    "\n",
    "# fig, ax = plt.subplots()\n",
    "# ax.plot(n_samples_arr*2, auc_arr)\n",
    "# plt.xlabel('Training Sample Count')\n",
    "# plt.ylabel('AUC Values')\n",
    "# ax.set_xticks(n_samples_arr*2)\n",
    "# plt.show()"
   ]
  },
  {
   "cell_type": "code",
   "execution_count": 7,
   "metadata": {},
   "outputs": [
    {
     "name": "stdout",
     "output_type": "stream",
     "text": [
      "{'logistic': {(40, 20, 10): None}, 'tanh': {(40, 20, 10): None}, 'relu': {(40, 20, 10): None}}\n",
      "On: logistic\n",
      "Time: [1321.0349984169006]\n",
      "AUC: 0.9747374984106915\n",
      "On: tanh\n",
      "Time: [1321.0349984169006, 1173.9717772006989]\n",
      "AUC: 0.9743537777518407\n",
      "On: relu\n",
      "Time: [1321.0349984169006, 1173.9717772006989, 1219.351223707199]\n",
      "AUC: 0.9749019523810565\n",
      "[0.9747374984106915, 0.9743537777518407, 0.9749019523810565]\n",
      "[1321.0349984169006, 1173.9717772006989, 1219.351223707199]\n"
     ]
    },
    {
     "ename": "ValueError",
     "evalue": "x and y must have same first dimension, but have shapes (8,) and (3,)",
     "output_type": "error",
     "traceback": [
      "\u001b[1;31m---------------------------------------------------------------------------\u001b[0m",
      "\u001b[1;31mValueError\u001b[0m                                Traceback (most recent call last)",
      "\u001b[1;32m<ipython-input-7-bf5be343f362>\u001b[0m in \u001b[0;36m<module>\u001b[1;34m\u001b[0m\n\u001b[0;32m     75\u001b[0m \u001b[1;33m\u001b[0m\u001b[0m\n\u001b[0;32m     76\u001b[0m \u001b[0mfig\u001b[0m\u001b[1;33m,\u001b[0m \u001b[0max\u001b[0m \u001b[1;33m=\u001b[0m \u001b[0mplt\u001b[0m\u001b[1;33m.\u001b[0m\u001b[0msubplots\u001b[0m\u001b[1;33m(\u001b[0m\u001b[1;33m)\u001b[0m\u001b[1;33m\u001b[0m\u001b[1;33m\u001b[0m\u001b[0m\n\u001b[1;32m---> 77\u001b[1;33m \u001b[0max\u001b[0m\u001b[1;33m.\u001b[0m\u001b[0mplot\u001b[0m\u001b[1;33m(\u001b[0m\u001b[0mn_samples_arr\u001b[0m\u001b[1;33m*\u001b[0m\u001b[1;36m2\u001b[0m\u001b[1;33m,\u001b[0m \u001b[0mNN_time_arr\u001b[0m\u001b[1;33m)\u001b[0m\u001b[1;33m\u001b[0m\u001b[1;33m\u001b[0m\u001b[0m\n\u001b[0m\u001b[0;32m     78\u001b[0m \u001b[0mplt\u001b[0m\u001b[1;33m.\u001b[0m\u001b[0mxlabel\u001b[0m\u001b[1;33m(\u001b[0m\u001b[1;34m'Training Sample Count'\u001b[0m\u001b[1;33m)\u001b[0m\u001b[1;33m\u001b[0m\u001b[1;33m\u001b[0m\u001b[0m\n\u001b[0;32m     79\u001b[0m \u001b[0mplt\u001b[0m\u001b[1;33m.\u001b[0m\u001b[0mylabel\u001b[0m\u001b[1;33m(\u001b[0m\u001b[1;34m'Time to Run'\u001b[0m\u001b[1;33m)\u001b[0m\u001b[1;33m\u001b[0m\u001b[1;33m\u001b[0m\u001b[0m\n",
      "\u001b[1;32mC:\\ProgramData\\Anaconda3\\lib\\site-packages\\matplotlib\\axes\\_axes.py\u001b[0m in \u001b[0;36mplot\u001b[1;34m(self, scalex, scaley, data, *args, **kwargs)\u001b[0m\n\u001b[0;32m   1663\u001b[0m         \"\"\"\n\u001b[0;32m   1664\u001b[0m         \u001b[0mkwargs\u001b[0m \u001b[1;33m=\u001b[0m \u001b[0mcbook\u001b[0m\u001b[1;33m.\u001b[0m\u001b[0mnormalize_kwargs\u001b[0m\u001b[1;33m(\u001b[0m\u001b[0mkwargs\u001b[0m\u001b[1;33m,\u001b[0m \u001b[0mmlines\u001b[0m\u001b[1;33m.\u001b[0m\u001b[0mLine2D\u001b[0m\u001b[1;33m.\u001b[0m\u001b[0m_alias_map\u001b[0m\u001b[1;33m)\u001b[0m\u001b[1;33m\u001b[0m\u001b[1;33m\u001b[0m\u001b[0m\n\u001b[1;32m-> 1665\u001b[1;33m         \u001b[0mlines\u001b[0m \u001b[1;33m=\u001b[0m \u001b[1;33m[\u001b[0m\u001b[1;33m*\u001b[0m\u001b[0mself\u001b[0m\u001b[1;33m.\u001b[0m\u001b[0m_get_lines\u001b[0m\u001b[1;33m(\u001b[0m\u001b[1;33m*\u001b[0m\u001b[0margs\u001b[0m\u001b[1;33m,\u001b[0m \u001b[0mdata\u001b[0m\u001b[1;33m=\u001b[0m\u001b[0mdata\u001b[0m\u001b[1;33m,\u001b[0m \u001b[1;33m**\u001b[0m\u001b[0mkwargs\u001b[0m\u001b[1;33m)\u001b[0m\u001b[1;33m]\u001b[0m\u001b[1;33m\u001b[0m\u001b[1;33m\u001b[0m\u001b[0m\n\u001b[0m\u001b[0;32m   1666\u001b[0m         \u001b[1;32mfor\u001b[0m \u001b[0mline\u001b[0m \u001b[1;32min\u001b[0m \u001b[0mlines\u001b[0m\u001b[1;33m:\u001b[0m\u001b[1;33m\u001b[0m\u001b[1;33m\u001b[0m\u001b[0m\n\u001b[0;32m   1667\u001b[0m             \u001b[0mself\u001b[0m\u001b[1;33m.\u001b[0m\u001b[0madd_line\u001b[0m\u001b[1;33m(\u001b[0m\u001b[0mline\u001b[0m\u001b[1;33m)\u001b[0m\u001b[1;33m\u001b[0m\u001b[1;33m\u001b[0m\u001b[0m\n",
      "\u001b[1;32mC:\\ProgramData\\Anaconda3\\lib\\site-packages\\matplotlib\\axes\\_base.py\u001b[0m in \u001b[0;36m__call__\u001b[1;34m(self, *args, **kwargs)\u001b[0m\n\u001b[0;32m    223\u001b[0m                 \u001b[0mthis\u001b[0m \u001b[1;33m+=\u001b[0m \u001b[0margs\u001b[0m\u001b[1;33m[\u001b[0m\u001b[1;36m0\u001b[0m\u001b[1;33m]\u001b[0m\u001b[1;33m,\u001b[0m\u001b[1;33m\u001b[0m\u001b[1;33m\u001b[0m\u001b[0m\n\u001b[0;32m    224\u001b[0m                 \u001b[0margs\u001b[0m \u001b[1;33m=\u001b[0m \u001b[0margs\u001b[0m\u001b[1;33m[\u001b[0m\u001b[1;36m1\u001b[0m\u001b[1;33m:\u001b[0m\u001b[1;33m]\u001b[0m\u001b[1;33m\u001b[0m\u001b[1;33m\u001b[0m\u001b[0m\n\u001b[1;32m--> 225\u001b[1;33m             \u001b[1;32myield\u001b[0m \u001b[1;32mfrom\u001b[0m \u001b[0mself\u001b[0m\u001b[1;33m.\u001b[0m\u001b[0m_plot_args\u001b[0m\u001b[1;33m(\u001b[0m\u001b[0mthis\u001b[0m\u001b[1;33m,\u001b[0m \u001b[0mkwargs\u001b[0m\u001b[1;33m)\u001b[0m\u001b[1;33m\u001b[0m\u001b[1;33m\u001b[0m\u001b[0m\n\u001b[0m\u001b[0;32m    226\u001b[0m \u001b[1;33m\u001b[0m\u001b[0m\n\u001b[0;32m    227\u001b[0m     \u001b[1;32mdef\u001b[0m \u001b[0mget_next_color\u001b[0m\u001b[1;33m(\u001b[0m\u001b[0mself\u001b[0m\u001b[1;33m)\u001b[0m\u001b[1;33m:\u001b[0m\u001b[1;33m\u001b[0m\u001b[1;33m\u001b[0m\u001b[0m\n",
      "\u001b[1;32mC:\\ProgramData\\Anaconda3\\lib\\site-packages\\matplotlib\\axes\\_base.py\u001b[0m in \u001b[0;36m_plot_args\u001b[1;34m(self, tup, kwargs)\u001b[0m\n\u001b[0;32m    389\u001b[0m             \u001b[0mx\u001b[0m\u001b[1;33m,\u001b[0m \u001b[0my\u001b[0m \u001b[1;33m=\u001b[0m \u001b[0mindex_of\u001b[0m\u001b[1;33m(\u001b[0m\u001b[0mtup\u001b[0m\u001b[1;33m[\u001b[0m\u001b[1;33m-\u001b[0m\u001b[1;36m1\u001b[0m\u001b[1;33m]\u001b[0m\u001b[1;33m)\u001b[0m\u001b[1;33m\u001b[0m\u001b[1;33m\u001b[0m\u001b[0m\n\u001b[0;32m    390\u001b[0m \u001b[1;33m\u001b[0m\u001b[0m\n\u001b[1;32m--> 391\u001b[1;33m         \u001b[0mx\u001b[0m\u001b[1;33m,\u001b[0m \u001b[0my\u001b[0m \u001b[1;33m=\u001b[0m \u001b[0mself\u001b[0m\u001b[1;33m.\u001b[0m\u001b[0m_xy_from_xy\u001b[0m\u001b[1;33m(\u001b[0m\u001b[0mx\u001b[0m\u001b[1;33m,\u001b[0m \u001b[0my\u001b[0m\u001b[1;33m)\u001b[0m\u001b[1;33m\u001b[0m\u001b[1;33m\u001b[0m\u001b[0m\n\u001b[0m\u001b[0;32m    392\u001b[0m \u001b[1;33m\u001b[0m\u001b[0m\n\u001b[0;32m    393\u001b[0m         \u001b[1;32mif\u001b[0m \u001b[0mself\u001b[0m\u001b[1;33m.\u001b[0m\u001b[0mcommand\u001b[0m \u001b[1;33m==\u001b[0m \u001b[1;34m'plot'\u001b[0m\u001b[1;33m:\u001b[0m\u001b[1;33m\u001b[0m\u001b[1;33m\u001b[0m\u001b[0m\n",
      "\u001b[1;32mC:\\ProgramData\\Anaconda3\\lib\\site-packages\\matplotlib\\axes\\_base.py\u001b[0m in \u001b[0;36m_xy_from_xy\u001b[1;34m(self, x, y)\u001b[0m\n\u001b[0;32m    268\u001b[0m         \u001b[1;32mif\u001b[0m \u001b[0mx\u001b[0m\u001b[1;33m.\u001b[0m\u001b[0mshape\u001b[0m\u001b[1;33m[\u001b[0m\u001b[1;36m0\u001b[0m\u001b[1;33m]\u001b[0m \u001b[1;33m!=\u001b[0m \u001b[0my\u001b[0m\u001b[1;33m.\u001b[0m\u001b[0mshape\u001b[0m\u001b[1;33m[\u001b[0m\u001b[1;36m0\u001b[0m\u001b[1;33m]\u001b[0m\u001b[1;33m:\u001b[0m\u001b[1;33m\u001b[0m\u001b[1;33m\u001b[0m\u001b[0m\n\u001b[0;32m    269\u001b[0m             raise ValueError(\"x and y must have same first dimension, but \"\n\u001b[1;32m--> 270\u001b[1;33m                              \"have shapes {} and {}\".format(x.shape, y.shape))\n\u001b[0m\u001b[0;32m    271\u001b[0m         \u001b[1;32mif\u001b[0m \u001b[0mx\u001b[0m\u001b[1;33m.\u001b[0m\u001b[0mndim\u001b[0m \u001b[1;33m>\u001b[0m \u001b[1;36m2\u001b[0m \u001b[1;32mor\u001b[0m \u001b[0my\u001b[0m\u001b[1;33m.\u001b[0m\u001b[0mndim\u001b[0m \u001b[1;33m>\u001b[0m \u001b[1;36m2\u001b[0m\u001b[1;33m:\u001b[0m\u001b[1;33m\u001b[0m\u001b[1;33m\u001b[0m\u001b[0m\n\u001b[0;32m    272\u001b[0m             raise ValueError(\"x and y can be no greater than 2-D, but have \"\n",
      "\u001b[1;31mValueError\u001b[0m: x and y must have same first dimension, but have shapes (8,) and (3,)"
     ]
    },
    {
     "data": {
      "image/png": "[encoded data removed]",
      "text/plain": [
       "<Figure size 432x288 with 1 Axes>"
      ]
     },
     "metadata": {
      "needs_background": "light"
     },
     "output_type": "display_data"
    }
   ],
   "source": [
    "# activations table\n",
    "\n",
    "# TODO:\n",
    "# try testing various parameters (activation, hidden layer). Use for loops to iterate through a ton and report the best results.\n",
    "# try verbose output to see if the max_iter is reached or if tol is achieved?\n",
    "activation_states = [\"logistic\", \"tanh\", \"relu\"]  # identity has very poor performance\n",
    "#activation_states = [\"relu\"]\n",
    "\n",
    "#hidden_layer_states = [(20,10,5),(10,5), (100,),(5,2),(60,30,15),(40,20,10),(4,2),(20,10)]  # v1\n",
    "#hidden_layer_states = [(20,10,5),(100,),(60,30,15),(40,20,10), (10,), (5,), (20,), (40,), (100,10)]\n",
    "hidden_layer_states = [(20,10,5),(100,),(60,30,15),(40,20,10), (40,), (100,10)]\n",
    "hidden_layer_states = [(40,20,10)]\n",
    "\n",
    "\n",
    "n_samples_arr = [100000,500000,1000000,1500000,2000000,2500000, 3000000,3500000]\n",
    "# n_samples_arr = [10000,20000,30000]\n",
    "n_samples_arr = np.array(n_samples_arr)\n",
    "\n",
    "# 3 layers all out perform 2 layers? 1 layer (100,) did well.\n",
    "\n",
    "report_LR_roc_auc_dict = dict.fromkeys(activation_states)\n",
    "for keys, vals in report_LR_roc_auc_dict.items():\n",
    "    report_LR_roc_auc_dict[keys] = dict.fromkeys(hidden_layer_states)\n",
    "\n",
    "print(report_LR_roc_auc_dict)\n",
    "# batch_size_arr = [25, 50, 75, 100, 125, 150, 175, 200]\n",
    "auc_arr = []\n",
    "NN_time_arr = []\n",
    "\n",
    "# solver_arr = [\"adam\", \"sgd\", \"lbfgs\"]\n",
    "for activations in activation_states:\n",
    "\n",
    "    ####### Separate the label from the normal dataframe\n",
    "\n",
    "    test_subsample_df = test_df.sample(n=n_samples, random_state=1)\n",
    "    train_subsample_df = train_df.sample(n=n_samples*2, random_state=1)\n",
    "\n",
    "    test_subsample_label_arr = np.array(test_subsample_df[df_columns_label])\n",
    "    test_subsample_df = test_subsample_df.drop(columns=df_columns_label)\n",
    "\n",
    "    train_subsample_label_arr = np.array(train_subsample_df[df_columns_label])\n",
    "    train_subsample_df = train_subsample_df.drop(columns=df_columns_label)\n",
    "    #######\n",
    "\n",
    "    print(f\"On: {activations}\")\n",
    "\n",
    "    time_start = time.time()\n",
    "    \n",
    "    # batch_size = 1 means no batch size\n",
    "    clf_NN = MLPClassifier(alpha=1e-5, hidden_layer_sizes=(40,20,10), activation=activations, batch_size=200, random_state=1, solver=\"adam\")   # \"adam SGD solver better than lbfgs\". Adam MUCH faster than SGD. (200k samples is ~25 sec for adam, 60 sec for SGD with same accuracy)\n",
    "    clf_NN.fit(train_subsample_df, train_subsample_label_arr)\n",
    "    pred_labels = np.array(clf_NN.predict(test_subsample_df))\n",
    "\n",
    "    report_LR = sklearn.metrics.classification_report(y_true = test_subsample_label_arr, y_pred = pred_labels, digits=4)\n",
    "    report_LR_roc_auc = sklearn.metrics.roc_auc_score(y_true = test_subsample_label_arr, y_score=clf_NN.predict_proba(test_subsample_df)[:,1])\n",
    "    # report_LR_roc_auc_dict[activations][hiddens_layers] = report_LR_roc_auc\n",
    "\n",
    "    auc_arr.append(report_LR_roc_auc)\n",
    "    NN_time_arr.append(time.time() - time_start)\n",
    "    print(f\"Time: {NN_time_arr}\")\n",
    "    print(f\"AUC: {report_LR_roc_auc}\")\n",
    "    # print(report_LR)\n",
    "# print(report_LR_roc_auc_dict)\n",
    "\n",
    "print(auc_arr)\n",
    "print(NN_time_arr)\n",
    "\n",
    "# fig, ax = plt.subplots()\n",
    "\n",
    "# ax.plot(batch_size_arr, auc_arr)\n",
    "# plt.xlabel('Batch Size')\n",
    "# plt.ylabel('AUC Values')\n",
    "# ax.set_xticks(batch_size_arr)\n",
    "# plt.show()\n",
    "\n",
    "fig, ax = plt.subplots()\n",
    "ax.plot(n_samples_arr*2, NN_time_arr)\n",
    "plt.xlabel('Training Sample Count')\n",
    "plt.ylabel('Time to Run')\n",
    "ax.set_xticks(n_samples_arr*2)\n",
    "plt.show()\n",
    "\n",
    "fig, ax = plt.subplots()\n",
    "ax.plot(n_samples_arr*2, auc_arr)\n",
    "plt.xlabel('Training Sample Count')\n",
    "plt.ylabel('AUC Values')\n",
    "ax.set_xticks(n_samples_arr*2)\n",
    "plt.show()"
   ]
  },
  {
   "cell_type": "code",
   "execution_count": 10,
   "metadata": {},
   "outputs": [
    {
     "data": {
      "image/png": "[encoded data removed]",
      "text/plain": [
       "<Figure size 432x288 with 1 Axes>"
      ]
     },
     "metadata": {
      "needs_background": "light"
     },
     "output_type": "display_data"
    }
   ],
   "source": [
    "NN_time_arr = [2857.474167585373, 1681.279044866562, 1181.1645891666412, 1086.5500478744507, 1003.9881377220154, 1032.9491999149323, 1055.1552698612213, 923.1990578174591]\n",
    "\n",
    "fig, ax = plt.subplots()\n",
    "ax.plot(batch_size_arr, NN_time_arr)\n",
    "plt.xlabel('Batch Size')\n",
    "plt.ylabel('Time to Run')\n",
    "ax.set_xticks(batch_size_arr)\n",
    "plt.show()"
   ]
  },
  {
   "cell_type": "markdown",
   "metadata": {},
   "source": [
    "adam solver is best?\n",
    "\n",
    "3.5m sample tests:\n",
    "\n",
    "batch size 200 + (40,20,10) + relu + standardscalar = 0.9747838795487936 (30m training)\n",
    "\n",
    "batch size 200 + (40,20,10) + relu + MinMaxScaler (used in paper) = 0.9703224152026235\n",
    "\n",
    "batch size 200 + (40,20,10) + relu + no scalar = 0.9749019523810565 (16m training)  ------------- best\n",
    "\n",
    "batch size 100 + (40,20,10) + relu + no scalar = worse?"
   ]
  }
 ],
 "metadata": {
  "interpreter": {
   "hash": "b3ba2566441a7c06988d0923437866b63cedc61552a5af99d1f4fb67d367b25f"
  },
  "kernelspec": {
   "display_name": "Python 3.7.3 64-bit ('base': conda)",
   "name": "python3"
  },
  "language_info": {
   "codemirror_mode": {
    "name": "ipython",
    "version": 3
   },
   "file_extension": ".py",
   "mimetype": "text/x-python",
   "name": "python",
   "nbconvert_exporter": "python",
   "pygments_lexer": "ipython3",
   "version": "3.7.3"
  },
  "orig_nbformat": 4
 },
 "nbformat": 4,
 "nbformat_minor": 2
}
